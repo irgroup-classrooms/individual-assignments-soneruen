{
 "cells": [
  {
   "cell_type": "code",
   "execution_count": null,
   "metadata": {},
   "outputs": [
    {
     "name": "stdout",
     "output_type": "stream",
     "text": [
      "Cleaning complete! Cleaned data saved to C:\\Users\\Soner\\Downloads\\cleaned_lotr_scripts.csv\n"
     ]
    }
   ],
   "source": [
    "import re\n",
    "import csv\n",
    "\n",
    "# Define the input and output file names\n",
    "input_file = r\"C:\\Users\\Soner\\OneDrive\\DIS\\WS24-25\\DIS08\\individual-assignments-soneruen\\assignments\\05\\lotr_scripts.csv\"  # Use raw string for Windows path\n",
    "output_file = r\"C:\\Users\\Soner\\OneDrive\\DIS\\WS24-25\\DIS08\\individual-assignments-soneruen\\assignments\\05\\cleaned_lotr_scripts.csv\"  # Output path for cleaned data\n",
    "\n",
    "# Open the input CSV file for reading\n",
    "with open(input_file, 'r', encoding='utf-8') as infile:\n",
    "    reader = csv.reader(infile)\n",
    "    cleaned_rows = []\n",
    "\n",
    "    for row in reader:\n",
    "        cleaned_row = []\n",
    "        for cell in row:\n",
    "            # Apply regex transformations\n",
    "            \n",
    "            # Remove extra commas\n",
    "            cell = re.sub(r',,', ',', cell)\n",
    "            \n",
    "            # Replace multiple consecutive commas with a single comma\n",
    "            cell = re.sub(r',,{2,}', ',', cell)  # New line added here\n",
    "            \n",
    "            # Trim leading and trailing whitespace\n",
    "            cell = cell.strip()\n",
    "            \n",
    "            # Remove leading commas\n",
    "            cell = re.sub(r'^,+', '', cell)\n",
    "            \n",
    "            # Collapse multiple spaces into a single space\n",
    "            cell = re.sub(r'\\s+', ' ', cell)\n",
    "            \n",
    "            # Remove space before commas\n",
    "            cell = re.sub(r'\\s+,', ',', cell)\n",
    "            \n",
    "            # Standardize quotation marks (optional)\n",
    "            cell = re.sub(r\"[‘’]\", '\"', cell)  # Replace smart quotes with double quotes\n",
    "            \n",
    "\n",
    "            cleaned_row.append(cell)\n",
    "        cleaned_rows.append(cleaned_row)\n",
    "\n",
    "# Write the cleaned data to a new CSV file\n",
    "with open(output_file, 'w', newline='', encoding='utf-8') as outfile:\n",
    "    writer = csv.writer(outfile)\n",
    "    writer.writerows(cleaned_rows)\n",
    "\n",
    "print(\"Cleaning complete! Cleaned data saved to\", output_file)\n"
   ]
  },
  {
   "cell_type": "code",
   "execution_count": 2,
   "metadata": {},
   "outputs": [
    {
     "ename": "SyntaxError",
     "evalue": "invalid syntax (3925613355.py, line 2)",
     "output_type": "error",
     "traceback": [
      "\u001b[1;36m  Cell \u001b[1;32mIn[2], line 2\u001b[1;36m\u001b[0m\n\u001b[1;33m    total_lines=$(wc -l < \"C:\\Users\\Soner\\Downloads\\cleaned_lotr_scripts.csv\")\u001b[0m\n\u001b[1;37m                ^\u001b[0m\n\u001b[1;31mSyntaxError\u001b[0m\u001b[1;31m:\u001b[0m invalid syntax\n"
     ]
    }
   ],
   "source": [
    "# Count total number of lines\n",
    "total_lines=$(wc -l < \"C:\\Users\\Soner\\Downloads\\cleaned_lotr_scripts.csv\")\n",
    "echo \"Total number of lines: $total_lines\"\n",
    "\n",
    "# Count unique words in the 'dialog' column (assuming it's the third column)\n",
    "unique_words=$(cut -d ',' -f3 \"C:\\Users\\Soner\\Downloads\\cleaned_lotr_scripts.csv\" | tr ' ' '\\n' | sort | uniq | wc -l)\n",
    "echo \"Total number of unique words: $unique_words\"\n"
   ]
  }
 ],
 "metadata": {
  "kernelspec": {
   "display_name": "base",
   "language": "python",
   "name": "python3"
  },
  "language_info": {
   "codemirror_mode": {
    "name": "ipython",
    "version": 3
   },
   "file_extension": ".py",
   "mimetype": "text/x-python",
   "name": "python",
   "nbconvert_exporter": "python",
   "pygments_lexer": "ipython3",
   "version": "3.11.7"
  }
 },
 "nbformat": 4,
 "nbformat_minor": 2
}
