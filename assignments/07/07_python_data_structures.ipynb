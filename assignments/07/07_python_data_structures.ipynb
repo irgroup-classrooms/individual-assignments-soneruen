{
 "cells": [
  {
   "cell_type": "markdown",
   "metadata": {},
   "source": [
    "# DIS08 / OR92 Data Modeling: Python - Data structures"
   ]
  },
  {
   "cell_type": "markdown",
   "metadata": {},
   "source": [
    "# Introduction to Data Structures\n",
    "\n",
    "---\n",
    "\n",
    "**Note:** Some examples and assignments in this notebook are taken from the following sources.\n",
    "- https://docs.python.org/3/tutorial/datastructures.html\n",
    "- https://realpython.com/python-data-structures/\n",
    "- https://www.geeksforgeeks.org/python-data-structures/\n",
    "- https://automatetheboringstuff.com/\n",
    "\n",
    "\n",
    "---\n",
    "\n",
    "## What are data structures?\n",
    "Data structures are ways of organizing and storing data to enable efficient access and modification. They provide a means to manage large amounts of data and are fundamental to designing efficient algorithms. \n",
    "\n",
    "In Python, data structures can be broadly categorized into built-in types (like lists, tuples, sets, and dictionaries) and custom types created using classes.\n",
    "\n",
    "## Importance of choosing the right data structure\n",
    "Selecting the appropriate data structure is crucial for optimizing the performance of a program. The choice affects:\n",
    "- **Memory usage:** Some data structures require more memory than others.\n",
    "- **Speed of operations:** Different structures offer varying performance for insertion, deletion, searching, and updating operations.\n",
    "- **Code clarity:** The right structure can make code easier to read and maintain.\n",
    "\n",
    "## Built-in vs. custom data structures\n",
    "- **Built-in data structures** are provided by Python and include lists, tuples, sets, and dictionaries. They are highly optimized and easy to use.\n",
    "- **Custom data structures** can be implemented using classes to meet specific needs, such as stacks, queues, linked lists, trees, and graphs.\n",
    "\n",
    "Choosing between built-in and custom data structures depends on the problem requirements and the trade-offs involved.\n",
    "\n"
   ]
  },
  {
   "cell_type": "markdown",
   "metadata": {},
   "source": [
    "## Lists\n",
    "\n",
    "### Characteristics\n",
    "- **Ordered**: The elements in a list have a specific order, which is preserved.\n",
    "- **Mutable**: Lists can be modified after their creation (e.g., adding, removing, or changing elements).\n",
    "- **Allows Duplicates**: A list can contain multiple instances of the same value."
   ]
  },
  {
   "cell_type": "markdown",
   "metadata": {},
   "source": [
    "### Common Operations\n",
    "\n",
    "#### Indexing\n",
    "\n",
    "Access elements by their position in the list (starting at index 0)."
   ]
  },
  {
   "cell_type": "code",
   "execution_count": null,
   "metadata": {},
   "outputs": [],
   "source": [
    "# Creating a list with some duplicate values\n",
    "my_list = [1, 2, 3, 4, 2, 5]\n",
    "print(my_list)  \n",
    "\n",
    "# Accessing elements\n",
    "first_element = my_list[0]   # First element\n",
    "last_element = my_list[-1]   # Last element\n",
    "\n",
    "print(f\"First element: {first_element}, Last element: {last_element}\")"
   ]
  },
  {
   "cell_type": "markdown",
   "metadata": {},
   "source": [
    "#### Slicing\n",
    "\n",
    "Retrieve a subset of the list using slicing."
   ]
  },
  {
   "cell_type": "code",
   "execution_count": null,
   "metadata": {},
   "outputs": [],
   "source": [
    "# Slicing the list\n",
    "sub_list = my_list[1:4]  # Elements from index 1 to 3\n",
    "print(sub_list) "
   ]
  },
  {
   "cell_type": "markdown",
   "metadata": {},
   "source": [
    "#### Appending\n",
    "\n",
    "Add an element to the end of the list using append()."
   ]
  },
  {
   "cell_type": "code",
   "execution_count": null,
   "metadata": {},
   "outputs": [],
   "source": [
    "# Appending a new element\n",
    "my_list.append(6)\n",
    "print(my_list)  "
   ]
  },
  {
   "cell_type": "markdown",
   "metadata": {},
   "source": [
    "#### Inserting\n",
    "\n",
    "Insert an element at a specific position using insert()."
   ]
  },
  {
   "cell_type": "code",
   "execution_count": null,
   "metadata": {},
   "outputs": [],
   "source": [
    "# Inserting an element at index 2\n",
    "my_list.insert(2, 99)\n",
    "print(my_list)  "
   ]
  },
  {
   "cell_type": "markdown",
   "metadata": {},
   "source": [
    "#### Counting, sorting, reversing, etc."
   ]
  },
  {
   "cell_type": "code",
   "execution_count": null,
   "metadata": {},
   "outputs": [],
   "source": [
    "fruits = ['orange', 'apple', 'pear', 'banana', 'kiwi', 'apple', 'banana']\n",
    "fruits"
   ]
  },
  {
   "cell_type": "code",
   "execution_count": null,
   "metadata": {},
   "outputs": [],
   "source": [
    "fruits.count('apple')"
   ]
  },
  {
   "cell_type": "code",
   "execution_count": null,
   "metadata": {},
   "outputs": [],
   "source": [
    "fruits.index('banana')"
   ]
  },
  {
   "cell_type": "code",
   "execution_count": null,
   "metadata": {},
   "outputs": [],
   "source": [
    "fruits.index('banana', 4)  # Find next banana starting at position 4"
   ]
  },
  {
   "cell_type": "code",
   "execution_count": null,
   "metadata": {},
   "outputs": [],
   "source": [
    "fruits.reverse()\n",
    "fruits"
   ]
  },
  {
   "cell_type": "markdown",
   "metadata": {},
   "source": [
    "#### Using Lists as Stacks\n",
    "\n",
    "A stack is a linear data structure that follows the Last In, First Out (LIFO) principle, meaning the last element added to the stack is the first one to be removed. It is commonly used for tasks like managing function calls, undo operations, and evaluating expressions.\n",
    "\n",
    "In Python, a stack can be implemented using a list, where append() adds an item to the top and pop() removes the topmost item. Alternatively, the deque (from the collections module) is preferred for better performance, as it provides efficient O(1) operations for both appending and popping.\n",
    "\n",
    "**See also:** https://en.wikipedia.org/wiki/Stack_(abstract_data_type)"
   ]
  },
  {
   "cell_type": "code",
   "execution_count": null,
   "metadata": {},
   "outputs": [],
   "source": [
    "stack = [3, 4, 5]\n",
    "stack"
   ]
  },
  {
   "cell_type": "code",
   "execution_count": null,
   "metadata": {},
   "outputs": [],
   "source": [
    "stack.append(6)\n",
    "stack"
   ]
  },
  {
   "cell_type": "code",
   "execution_count": null,
   "metadata": {},
   "outputs": [],
   "source": [
    "stack.append(7)\n",
    "stack"
   ]
  },
  {
   "cell_type": "code",
   "execution_count": null,
   "metadata": {},
   "outputs": [],
   "source": [
    "stack.pop()"
   ]
  },
  {
   "cell_type": "code",
   "execution_count": null,
   "metadata": {},
   "outputs": [],
   "source": [
    "stack.pop()"
   ]
  },
  {
   "cell_type": "markdown",
   "metadata": {},
   "source": [
    "#### Using Lists as Queues\n",
    "\n",
    "A queue is a linear data structure that follows the First In, First Out (FIFO) principle, meaning the first element added is the first one to be removed. It is commonly used for tasks like task scheduling, breadth-first search, and managing shared resources.\n",
    "\n",
    "In Python, a queue can be implemented using a list, though it is inefficient for frequent operations due to O(n) complexity when removing the first element. A more efficient approach is to use the deque (from the collections module), which provides O(1) operations for both appending and removing elements from either end. For thread-safe queues, the queue.Queue class from the queue module can be used.\n",
    "\n",
    "**See also:** https://en.wikipedia.org/wiki/Queue_(abstract_data_type)"
   ]
  },
  {
   "cell_type": "code",
   "execution_count": null,
   "metadata": {},
   "outputs": [],
   "source": [
    "from collections import deque\n",
    "\n",
    "queue = deque([\"Eric\", \"John\", \"Michael\"])\n",
    "queue"
   ]
  },
  {
   "cell_type": "code",
   "execution_count": null,
   "metadata": {},
   "outputs": [],
   "source": [
    "queue.append(\"Terry\")\n",
    "queue"
   ]
  },
  {
   "cell_type": "code",
   "execution_count": null,
   "metadata": {},
   "outputs": [],
   "source": [
    "queue.append(\"Graham\")\n",
    "queue"
   ]
  },
  {
   "cell_type": "code",
   "execution_count": null,
   "metadata": {},
   "outputs": [],
   "source": [
    "queue.popleft()\n",
    "queue"
   ]
  },
  {
   "cell_type": "code",
   "execution_count": null,
   "metadata": {},
   "outputs": [],
   "source": [
    "queue.popleft()\n",
    "queue"
   ]
  },
  {
   "cell_type": "markdown",
   "metadata": {},
   "source": [
    "### List comprehension\n",
    "\n",
    "List comprehension is a concise and elegant way to create and transform lists in Python. It provides a syntactic shortcut for generating new lists by applying an expression to each item in an existing iterable (like a list, range, or string) and optionally filtering elements based on a condition. "
   ]
  },
  {
   "cell_type": "code",
   "execution_count": null,
   "metadata": {},
   "outputs": [],
   "source": [
    "squares = []\n",
    "for x in range(10):\n",
    "    squares.append(x**2)\n",
    "\n",
    "squares"
   ]
  },
  {
   "cell_type": "code",
   "execution_count": null,
   "metadata": {},
   "outputs": [],
   "source": [
    "squares = list(map(lambda x: x**2, range(10)))\n",
    "squares"
   ]
  },
  {
   "cell_type": "code",
   "execution_count": null,
   "metadata": {},
   "outputs": [],
   "source": [
    "squares = [x**2 for x in range(10)]\n",
    "squares"
   ]
  },
  {
   "cell_type": "markdown",
   "metadata": {},
   "source": [
    "## Tuples\n",
    "\n",
    "A tuple is an immutable sequence, meaning its elements cannot be modified after creation. Tuples are defined using parentheses () or simply by separating values with commas. For example, (1, 2, 3) or 1, 2, 3 are tuples. They are commonly used to represent fixed collections of items, like coordinates or function return values. Tuples are efficient and can hold heterogeneous data types, making them ideal for use as keys in dictionaries or when immutability is desired.\n",
    "\n",
    "A tuple consists of a number of values separated by commas, for instance:"
   ]
  },
  {
   "cell_type": "code",
   "execution_count": null,
   "metadata": {},
   "outputs": [],
   "source": [
    "t = 12345, 54321, 'hello!'\n",
    "t[0]"
   ]
  },
  {
   "cell_type": "code",
   "execution_count": null,
   "metadata": {},
   "outputs": [],
   "source": [
    "# Tuples may be nested:\n",
    "u = t, (1, 2, 3, 4, 5)\n",
    "u"
   ]
  },
  {
   "cell_type": "code",
   "execution_count": null,
   "metadata": {},
   "outputs": [],
   "source": [
    "# Tuples are immutable:\n",
    "t[0] = 88888"
   ]
  },
  {
   "cell_type": "code",
   "execution_count": null,
   "metadata": {},
   "outputs": [],
   "source": [
    "# but they can contain mutable objects:\n",
    "v = ([1, 2, 3], [3, 2, 1])\n",
    "v"
   ]
  },
  {
   "cell_type": "markdown",
   "metadata": {},
   "source": [
    "## Sets\n",
    "\n",
    "A set in Python is an unordered collection of unique, immutable elements, commonly used for operations like membership testing, deduplication, and mathematical set operations (union, intersection, difference, and symmetric difference). Sets are defined using curly braces {} or the set() constructor, e.g., {1, 2, 3} or set([1, 2, 3]). They do not support indexing or slicing because they are unordered, but they are highly efficient for checking membership due to their underlying hash table implementation. Python also provides a frozenset, an immutable version of a set, which can be used as dictionary keys or elements of other sets."
   ]
  },
  {
   "cell_type": "code",
   "execution_count": null,
   "metadata": {},
   "outputs": [],
   "source": [
    "basket = {'apple', 'orange', 'apple', 'pear', 'orange', 'banana'}\n",
    "basket"
   ]
  },
  {
   "cell_type": "code",
   "execution_count": null,
   "metadata": {},
   "outputs": [],
   "source": [
    "# Demonstrate set operations on unique letters from two words\n",
    "a = set('abracadabra')\n",
    "b = set('alacazam')"
   ]
  },
  {
   "cell_type": "code",
   "execution_count": null,
   "metadata": {},
   "outputs": [],
   "source": [
    "# unique letters in a\n",
    "a                                  "
   ]
  },
  {
   "cell_type": "code",
   "execution_count": null,
   "metadata": {},
   "outputs": [],
   "source": [
    "# letters in a but not in b\n",
    "a - b                              "
   ]
  },
  {
   "cell_type": "code",
   "execution_count": null,
   "metadata": {},
   "outputs": [],
   "source": [
    "# letters in a or b or both\n",
    "a | b"
   ]
  },
  {
   "cell_type": "code",
   "execution_count": null,
   "metadata": {},
   "outputs": [],
   "source": [
    "# letters in both a and b\n",
    "a & b                              \n"
   ]
  },
  {
   "cell_type": "code",
   "execution_count": null,
   "metadata": {},
   "outputs": [],
   "source": [
    "# letters in a or b but not both\n",
    "a ^ b                              "
   ]
  },
  {
   "cell_type": "markdown",
   "metadata": {},
   "source": [
    "## Dictionaries\n",
    "\n",
    "A dictionary in Python is an unordered, mutable collection that maps unique keys to values, making it ideal for storing and retrieving data efficiently using key-based lookups. Defined using curly braces {} with key-value pairs separated by colons, e.g., {\"name\": \"Alice\", \"age\": 30}, or created with the dict() constructor, dictionaries allow heterogeneous keys and values, though keys must be immutable (e.g., strings, numbers, or tuples). They support various operations, including adding, updating, and deleting key-value pairs, as well as built-in methods like .get(), .keys(), .values(), and .items() for accessing and manipulating data. Their efficient hash table implementation makes them a cornerstone of Python’s data structures."
   ]
  },
  {
   "cell_type": "code",
   "execution_count": 1,
   "metadata": {},
   "outputs": [
    {
     "data": {
      "text/plain": [
       "{'jack': 4098, 'sape': 4139, 'guido': 4127}"
      ]
     },
     "execution_count": 1,
     "metadata": {},
     "output_type": "execute_result"
    }
   ],
   "source": [
    "tel = {'jack': 4098, 'sape': 4139}\n",
    "tel['guido'] = 4127\n",
    "tel"
   ]
  },
  {
   "cell_type": "code",
   "execution_count": 2,
   "metadata": {},
   "outputs": [
    {
     "data": {
      "text/plain": [
       "4098"
      ]
     },
     "execution_count": 2,
     "metadata": {},
     "output_type": "execute_result"
    }
   ],
   "source": [
    "tel['jack']"
   ]
  },
  {
   "cell_type": "code",
   "execution_count": 3,
   "metadata": {},
   "outputs": [
    {
     "data": {
      "text/plain": [
       "{'jack': 4098, 'guido': 4127}"
      ]
     },
     "execution_count": 3,
     "metadata": {},
     "output_type": "execute_result"
    }
   ],
   "source": [
    "del tel['sape']\n",
    "tel"
   ]
  },
  {
   "cell_type": "code",
   "execution_count": 4,
   "metadata": {},
   "outputs": [
    {
     "data": {
      "text/plain": [
       "{'jack': 4098, 'guido': 4127, 'irv': 4127}"
      ]
     },
     "execution_count": 4,
     "metadata": {},
     "output_type": "execute_result"
    }
   ],
   "source": [
    "tel['irv'] = 4127\n",
    "tel"
   ]
  },
  {
   "cell_type": "code",
   "execution_count": 5,
   "metadata": {},
   "outputs": [
    {
     "data": {
      "text/plain": [
       "['jack', 'guido', 'irv']"
      ]
     },
     "execution_count": 5,
     "metadata": {},
     "output_type": "execute_result"
    }
   ],
   "source": [
    "list(tel)"
   ]
  },
  {
   "cell_type": "code",
   "execution_count": 6,
   "metadata": {},
   "outputs": [
    {
     "data": {
      "text/plain": [
       "['guido', 'irv', 'jack']"
      ]
     },
     "execution_count": 6,
     "metadata": {},
     "output_type": "execute_result"
    }
   ],
   "source": [
    "sorted(tel)"
   ]
  },
  {
   "cell_type": "code",
   "execution_count": 7,
   "metadata": {},
   "outputs": [
    {
     "data": {
      "text/plain": [
       "True"
      ]
     },
     "execution_count": 7,
     "metadata": {},
     "output_type": "execute_result"
    }
   ],
   "source": [
    "'guido' in tel"
   ]
  },
  {
   "cell_type": "code",
   "execution_count": 8,
   "metadata": {},
   "outputs": [
    {
     "data": {
      "text/plain": [
       "False"
      ]
     },
     "execution_count": 8,
     "metadata": {},
     "output_type": "execute_result"
    }
   ],
   "source": [
    "'jack' not in tel"
   ]
  },
  {
   "cell_type": "markdown",
   "metadata": {},
   "source": [
    "## Self-defined classes and basic concepts of object-oriented programming\n",
    "\n",
    "*Let's go to the library!*"
   ]
  },
  {
   "cell_type": "markdown",
   "metadata": {},
   "source": [
    "**Base Class (Encapsulation)**"
   ]
  },
  {
   "cell_type": "code",
   "execution_count": 9,
   "metadata": {},
   "outputs": [],
   "source": [
    "class Book:\n",
    "    def __init__(self, title, author, isbn, copies=1):\n",
    "        self._title = title  # Protected attribute\n",
    "        self._author = author  # Protected attribute\n",
    "        self._isbn = isbn  # Protected attribute\n",
    "        self._copies = copies  # Protected attribute\n",
    "\n",
    "    def display_info(self):\n",
    "        \"\"\"Public method to display book information.\"\"\"\n",
    "        print(f\"Title: {self._title}\")\n",
    "        print(f\"Author: {self._author}\")\n",
    "        print(f\"ISBN: {self._isbn}\")\n",
    "        print(f\"Copies Available: {self._copies}\")\n",
    "\n",
    "    def borrow_book(self):\n",
    "        \"\"\"Public method to borrow a book.\"\"\"\n",
    "        if self._copies > 0:\n",
    "            self._copies -= 1\n",
    "            print(f\"Borrowed '{self._title}'. Remaining copies: {self._copies}\")\n",
    "        else:\n",
    "            print(f\"'{self._title}' is currently unavailable.\")\n",
    "\n",
    "    def return_book(self):\n",
    "        \"\"\"Public method to return a book.\"\"\"\n",
    "        self._copies += 1\n",
    "        print(f\"Returned '{self._title}'. Total copies: {self._copies}\")"
   ]
  },
  {
   "cell_type": "markdown",
   "metadata": {},
   "source": [
    "**Derived Class (Inheritance)**"
   ]
  },
  {
   "cell_type": "code",
   "execution_count": 10,
   "metadata": {},
   "outputs": [],
   "source": [
    "class EBook(Book):\n",
    "    def __init__(self, title, author, isbn, file_size, file_format, copies=1):\n",
    "        super().__init__(title, author, isbn, copies)  # Call the constructor of the base class\n",
    "        self._file_size = file_size  # Specific to EBook\n",
    "        self._file_format = file_format  # Specific to EBook\n",
    "\n",
    "    def display_info(self):\n",
    "        \"\"\"Overriding method to include eBook-specific details.\"\"\"\n",
    "        super().display_info()\n",
    "        print(f\"File Size: {self._file_size}MB\")\n",
    "        print(f\"File Format: {self._file_format}\")"
   ]
  },
  {
   "cell_type": "markdown",
   "metadata": {},
   "source": [
    "**Polymorphism in action**"
   ]
  },
  {
   "cell_type": "code",
   "execution_count": 11,
   "metadata": {},
   "outputs": [],
   "source": [
    "def book_info(book):\n",
    "    \"\"\"Function to demonstrate polymorphism.\"\"\"\n",
    "    book.display_info()"
   ]
  },
  {
   "cell_type": "markdown",
   "metadata": {},
   "source": [
    "**Abstract Class**"
   ]
  },
  {
   "cell_type": "code",
   "execution_count": 12,
   "metadata": {},
   "outputs": [],
   "source": [
    "from abc import ABC, abstractmethod\n",
    "\n",
    "class LibraryMember(ABC):\n",
    "    def __init__(self, name, member_id):\n",
    "        self.name = name\n",
    "        self.member_id = member_id\n",
    "\n",
    "    @abstractmethod\n",
    "    def borrow(self):\n",
    "        pass\n",
    "\n",
    "    @abstractmethod\n",
    "    def return_item(self):\n",
    "        pass"
   ]
  },
  {
   "cell_type": "markdown",
   "metadata": {},
   "source": [
    "**Concrete class inheriting from abstract class**"
   ]
  },
  {
   "cell_type": "code",
   "execution_count": 13,
   "metadata": {},
   "outputs": [],
   "source": [
    "class Student(LibraryMember):\n",
    "    def __init__(self, name, member_id, borrowed_books=None):\n",
    "        super().__init__(name, member_id)\n",
    "        self.borrowed_books = borrowed_books if borrowed_books else []\n",
    "\n",
    "    def borrow(self, book):\n",
    "        \"\"\"Implements borrowing for a student.\"\"\"\n",
    "        if len(self.borrowed_books) < 3:  # Limit students to borrowing 3 books\n",
    "            book.borrow_book()\n",
    "            self.borrowed_books.append(book)\n",
    "        else:\n",
    "            print(f\"{self.name} has already borrowed 3 books!\")\n",
    "\n",
    "    def return_item(self, book):\n",
    "        \"\"\"Implements returning a book.\"\"\"\n",
    "        if book in self.borrowed_books:\n",
    "            book.return_book()\n",
    "            self.borrowed_books.remove(book)\n",
    "        else:\n",
    "            print(f\"{self.name} did not borrow '{book._title}'.\")\n",
    "\n",
    "    def display_borrowed_books(self):\n",
    "        print(f\"{self.name} has borrowed:\")\n",
    "        for book in self.borrowed_books:\n",
    "            print(f\"- {book._title}\")"
   ]
  },
  {
   "cell_type": "markdown",
   "metadata": {},
   "source": [
    "**Demonstration**"
   ]
  },
  {
   "cell_type": "code",
   "execution_count": 14,
   "metadata": {},
   "outputs": [
    {
     "name": "stdout",
     "output_type": "stream",
     "text": [
      "\n",
      "--- Book Information ---\n",
      "Title: The Great Gatsby\n",
      "Author: F. Scott Fitzgerald\n",
      "ISBN: 123456789\n",
      "Copies Available: 2\n",
      "Title: Python Programming\n",
      "Author: Guido van Rossum\n",
      "ISBN: 555666777\n",
      "Copies Available: 1\n",
      "File Size: 5MB\n",
      "File Format: PDF\n",
      "\n",
      "--- Borrowing Books ---\n",
      "Borrowed 'The Great Gatsby'. Remaining copies: 1\n",
      "Borrowed '1984'. Remaining copies: 0\n",
      "Borrowed 'Python Programming'. Remaining copies: 0\n",
      "Alice has already borrowed 3 books!\n",
      "\n",
      "--- Borrowed Books ---\n",
      "Alice has borrowed:\n",
      "- The Great Gatsby\n",
      "- 1984\n",
      "- Python Programming\n",
      "\n",
      "--- Returning a Book ---\n",
      "Returned 'The Great Gatsby'. Total copies: 2\n",
      "Alice has borrowed:\n",
      "- 1984\n",
      "- Python Programming\n",
      "\n",
      "--- Borrowing After Returning ---\n",
      "Borrowed 'To Kill a Mockingbird'. Remaining copies: 0\n",
      "\n",
      "--- Abstract Class Implementation ---\n",
      "Alice (ID: S001) is a library member.\n"
     ]
    }
   ],
   "source": [
    "if __name__ == \"__main__\":\n",
    "    # Create some book objects\n",
    "    book1 = Book(\"The Great Gatsby\", \"F. Scott Fitzgerald\", \"123456789\", 2)\n",
    "    book2 = Book(\"1984\", \"George Orwell\", \"987654321\", 1)\n",
    "    ebook1 = EBook(\"Python Programming\", \"Guido van Rossum\", \"555666777\", 5, \"PDF\")\n",
    "\n",
    "    # Display information using polymorphism\n",
    "    print(\"\\n--- Book Information ---\")\n",
    "    book_info(book1)\n",
    "    book_info(ebook1)\n",
    "\n",
    "    # Create a student member\n",
    "    student = Student(\"Alice\", \"S001\")\n",
    "\n",
    "    # Borrow books\n",
    "    print(\"\\n--- Borrowing Books ---\")\n",
    "    student.borrow(book1)\n",
    "    student.borrow(book2)\n",
    "    student.borrow(ebook1)\n",
    "\n",
    "    # Try borrowing more than 3 books\n",
    "    book3 = Book(\"To Kill a Mockingbird\", \"Harper Lee\", \"222333444\", 1)\n",
    "    student.borrow(book3)\n",
    "\n",
    "    # Display borrowed books\n",
    "    print(\"\\n--- Borrowed Books ---\")\n",
    "    student.display_borrowed_books()\n",
    "\n",
    "    # Return a book\n",
    "    print(\"\\n--- Returning a Book ---\")\n",
    "    student.return_item(book1)\n",
    "    student.display_borrowed_books()\n",
    "\n",
    "    # Borrow again\n",
    "    print(\"\\n--- Borrowing After Returning ---\")\n",
    "    student.borrow(book3)\n",
    "\n",
    "    # Abstract base class demonstration\n",
    "    print(\"\\n--- Abstract Class Implementation ---\")\n",
    "    print(f\"{student.name} (ID: {student.member_id}) is a library member.\")"
   ]
  },
  {
   "cell_type": "markdown",
   "metadata": {},
   "source": [
    "## Pandas' DataFrame class\n",
    "\n",
    "*Renting bikes in NYC...*\n",
    "\n",
    "In the following, we use data from Citi Bike.\n",
    "\n",
    "> **Wikipedia:** Citi Bike is a privately owned public bicycle sharing system serving the New York City boroughs of the Bronx, Brooklyn, Manhattan, and Queens, as well as Jersey City and Hoboken, New Jersey. Named after lead sponsor Citigroup, it was operated by Motivate (formerly Alta Bicycle Share), with former Metropolitan Transportation Authority CEO Jay Walder as chief executive until September 30, 2018, when the company was acquired by Lyft. The system's bikes and stations use technology from Lyft. \n",
    "\n",
    "**Source:** https://en.wikipedia.org/wiki/Citi_Bike\n",
    "\n",
    "Citi Bike provides monthly reports of their service usage that can be obtained from https://citibikenyc.com/system-data or more specifcially https://s3.amazonaws.com/tripdata/index.html"
   ]
  },
  {
   "cell_type": "code",
   "execution_count": 15,
   "metadata": {},
   "outputs": [
    {
     "name": "stderr",
     "output_type": "stream",
     "text": [
      "Der Befehl \"wget\" ist entweder falsch geschrieben oder\n",
      "konnte nicht gefunden werden.\n"
     ]
    }
   ],
   "source": [
    "!wget https://s3.amazonaws.com/tripdata/JC-202410-citibike-tripdata.csv.zip && unzip JC-202410-citibike-tripdata.csv.zip"
   ]
  },
  {
   "cell_type": "code",
   "execution_count": 16,
   "metadata": {},
   "outputs": [
    {
     "ename": "FileNotFoundError",
     "evalue": "[Errno 2] No such file or directory: 'JC-202410-citibike-tripdata.csv'",
     "output_type": "error",
     "traceback": [
      "\u001b[1;31m---------------------------------------------------------------------------\u001b[0m",
      "\u001b[1;31mFileNotFoundError\u001b[0m                         Traceback (most recent call last)",
      "Cell \u001b[1;32mIn[16], line 3\u001b[0m\n\u001b[0;32m      1\u001b[0m \u001b[38;5;28;01mimport\u001b[39;00m \u001b[38;5;21;01mpandas\u001b[39;00m \u001b[38;5;28;01mas\u001b[39;00m \u001b[38;5;21;01mpd\u001b[39;00m\n\u001b[1;32m----> 3\u001b[0m df \u001b[38;5;241m=\u001b[39m pd\u001b[38;5;241m.\u001b[39mread_csv(\u001b[38;5;124m'\u001b[39m\u001b[38;5;124mJC-202410-citibike-tripdata.csv\u001b[39m\u001b[38;5;124m'\u001b[39m)\n\u001b[0;32m      4\u001b[0m df\n",
      "File \u001b[1;32mc:\\Users\\Soner\\anaconda3\\Lib\\site-packages\\pandas\\io\\parsers\\readers.py:948\u001b[0m, in \u001b[0;36mread_csv\u001b[1;34m(filepath_or_buffer, sep, delimiter, header, names, index_col, usecols, dtype, engine, converters, true_values, false_values, skipinitialspace, skiprows, skipfooter, nrows, na_values, keep_default_na, na_filter, verbose, skip_blank_lines, parse_dates, infer_datetime_format, keep_date_col, date_parser, date_format, dayfirst, cache_dates, iterator, chunksize, compression, thousands, decimal, lineterminator, quotechar, quoting, doublequote, escapechar, comment, encoding, encoding_errors, dialect, on_bad_lines, delim_whitespace, low_memory, memory_map, float_precision, storage_options, dtype_backend)\u001b[0m\n\u001b[0;32m    935\u001b[0m kwds_defaults \u001b[38;5;241m=\u001b[39m _refine_defaults_read(\n\u001b[0;32m    936\u001b[0m     dialect,\n\u001b[0;32m    937\u001b[0m     delimiter,\n\u001b[1;32m   (...)\u001b[0m\n\u001b[0;32m    944\u001b[0m     dtype_backend\u001b[38;5;241m=\u001b[39mdtype_backend,\n\u001b[0;32m    945\u001b[0m )\n\u001b[0;32m    946\u001b[0m kwds\u001b[38;5;241m.\u001b[39mupdate(kwds_defaults)\n\u001b[1;32m--> 948\u001b[0m \u001b[38;5;28;01mreturn\u001b[39;00m _read(filepath_or_buffer, kwds)\n",
      "File \u001b[1;32mc:\\Users\\Soner\\anaconda3\\Lib\\site-packages\\pandas\\io\\parsers\\readers.py:611\u001b[0m, in \u001b[0;36m_read\u001b[1;34m(filepath_or_buffer, kwds)\u001b[0m\n\u001b[0;32m    608\u001b[0m _validate_names(kwds\u001b[38;5;241m.\u001b[39mget(\u001b[38;5;124m\"\u001b[39m\u001b[38;5;124mnames\u001b[39m\u001b[38;5;124m\"\u001b[39m, \u001b[38;5;28;01mNone\u001b[39;00m))\n\u001b[0;32m    610\u001b[0m \u001b[38;5;66;03m# Create the parser.\u001b[39;00m\n\u001b[1;32m--> 611\u001b[0m parser \u001b[38;5;241m=\u001b[39m TextFileReader(filepath_or_buffer, \u001b[38;5;241m*\u001b[39m\u001b[38;5;241m*\u001b[39mkwds)\n\u001b[0;32m    613\u001b[0m \u001b[38;5;28;01mif\u001b[39;00m chunksize \u001b[38;5;129;01mor\u001b[39;00m iterator:\n\u001b[0;32m    614\u001b[0m     \u001b[38;5;28;01mreturn\u001b[39;00m parser\n",
      "File \u001b[1;32mc:\\Users\\Soner\\anaconda3\\Lib\\site-packages\\pandas\\io\\parsers\\readers.py:1448\u001b[0m, in \u001b[0;36mTextFileReader.__init__\u001b[1;34m(self, f, engine, **kwds)\u001b[0m\n\u001b[0;32m   1445\u001b[0m     \u001b[38;5;28mself\u001b[39m\u001b[38;5;241m.\u001b[39moptions[\u001b[38;5;124m\"\u001b[39m\u001b[38;5;124mhas_index_names\u001b[39m\u001b[38;5;124m\"\u001b[39m] \u001b[38;5;241m=\u001b[39m kwds[\u001b[38;5;124m\"\u001b[39m\u001b[38;5;124mhas_index_names\u001b[39m\u001b[38;5;124m\"\u001b[39m]\n\u001b[0;32m   1447\u001b[0m \u001b[38;5;28mself\u001b[39m\u001b[38;5;241m.\u001b[39mhandles: IOHandles \u001b[38;5;241m|\u001b[39m \u001b[38;5;28;01mNone\u001b[39;00m \u001b[38;5;241m=\u001b[39m \u001b[38;5;28;01mNone\u001b[39;00m\n\u001b[1;32m-> 1448\u001b[0m \u001b[38;5;28mself\u001b[39m\u001b[38;5;241m.\u001b[39m_engine \u001b[38;5;241m=\u001b[39m \u001b[38;5;28mself\u001b[39m\u001b[38;5;241m.\u001b[39m_make_engine(f, \u001b[38;5;28mself\u001b[39m\u001b[38;5;241m.\u001b[39mengine)\n",
      "File \u001b[1;32mc:\\Users\\Soner\\anaconda3\\Lib\\site-packages\\pandas\\io\\parsers\\readers.py:1705\u001b[0m, in \u001b[0;36mTextFileReader._make_engine\u001b[1;34m(self, f, engine)\u001b[0m\n\u001b[0;32m   1703\u001b[0m     \u001b[38;5;28;01mif\u001b[39;00m \u001b[38;5;124m\"\u001b[39m\u001b[38;5;124mb\u001b[39m\u001b[38;5;124m\"\u001b[39m \u001b[38;5;129;01mnot\u001b[39;00m \u001b[38;5;129;01min\u001b[39;00m mode:\n\u001b[0;32m   1704\u001b[0m         mode \u001b[38;5;241m+\u001b[39m\u001b[38;5;241m=\u001b[39m \u001b[38;5;124m\"\u001b[39m\u001b[38;5;124mb\u001b[39m\u001b[38;5;124m\"\u001b[39m\n\u001b[1;32m-> 1705\u001b[0m \u001b[38;5;28mself\u001b[39m\u001b[38;5;241m.\u001b[39mhandles \u001b[38;5;241m=\u001b[39m get_handle(\n\u001b[0;32m   1706\u001b[0m     f,\n\u001b[0;32m   1707\u001b[0m     mode,\n\u001b[0;32m   1708\u001b[0m     encoding\u001b[38;5;241m=\u001b[39m\u001b[38;5;28mself\u001b[39m\u001b[38;5;241m.\u001b[39moptions\u001b[38;5;241m.\u001b[39mget(\u001b[38;5;124m\"\u001b[39m\u001b[38;5;124mencoding\u001b[39m\u001b[38;5;124m\"\u001b[39m, \u001b[38;5;28;01mNone\u001b[39;00m),\n\u001b[0;32m   1709\u001b[0m     compression\u001b[38;5;241m=\u001b[39m\u001b[38;5;28mself\u001b[39m\u001b[38;5;241m.\u001b[39moptions\u001b[38;5;241m.\u001b[39mget(\u001b[38;5;124m\"\u001b[39m\u001b[38;5;124mcompression\u001b[39m\u001b[38;5;124m\"\u001b[39m, \u001b[38;5;28;01mNone\u001b[39;00m),\n\u001b[0;32m   1710\u001b[0m     memory_map\u001b[38;5;241m=\u001b[39m\u001b[38;5;28mself\u001b[39m\u001b[38;5;241m.\u001b[39moptions\u001b[38;5;241m.\u001b[39mget(\u001b[38;5;124m\"\u001b[39m\u001b[38;5;124mmemory_map\u001b[39m\u001b[38;5;124m\"\u001b[39m, \u001b[38;5;28;01mFalse\u001b[39;00m),\n\u001b[0;32m   1711\u001b[0m     is_text\u001b[38;5;241m=\u001b[39mis_text,\n\u001b[0;32m   1712\u001b[0m     errors\u001b[38;5;241m=\u001b[39m\u001b[38;5;28mself\u001b[39m\u001b[38;5;241m.\u001b[39moptions\u001b[38;5;241m.\u001b[39mget(\u001b[38;5;124m\"\u001b[39m\u001b[38;5;124mencoding_errors\u001b[39m\u001b[38;5;124m\"\u001b[39m, \u001b[38;5;124m\"\u001b[39m\u001b[38;5;124mstrict\u001b[39m\u001b[38;5;124m\"\u001b[39m),\n\u001b[0;32m   1713\u001b[0m     storage_options\u001b[38;5;241m=\u001b[39m\u001b[38;5;28mself\u001b[39m\u001b[38;5;241m.\u001b[39moptions\u001b[38;5;241m.\u001b[39mget(\u001b[38;5;124m\"\u001b[39m\u001b[38;5;124mstorage_options\u001b[39m\u001b[38;5;124m\"\u001b[39m, \u001b[38;5;28;01mNone\u001b[39;00m),\n\u001b[0;32m   1714\u001b[0m )\n\u001b[0;32m   1715\u001b[0m \u001b[38;5;28;01massert\u001b[39;00m \u001b[38;5;28mself\u001b[39m\u001b[38;5;241m.\u001b[39mhandles \u001b[38;5;129;01mis\u001b[39;00m \u001b[38;5;129;01mnot\u001b[39;00m \u001b[38;5;28;01mNone\u001b[39;00m\n\u001b[0;32m   1716\u001b[0m f \u001b[38;5;241m=\u001b[39m \u001b[38;5;28mself\u001b[39m\u001b[38;5;241m.\u001b[39mhandles\u001b[38;5;241m.\u001b[39mhandle\n",
      "File \u001b[1;32mc:\\Users\\Soner\\anaconda3\\Lib\\site-packages\\pandas\\io\\common.py:863\u001b[0m, in \u001b[0;36mget_handle\u001b[1;34m(path_or_buf, mode, encoding, compression, memory_map, is_text, errors, storage_options)\u001b[0m\n\u001b[0;32m    858\u001b[0m \u001b[38;5;28;01melif\u001b[39;00m \u001b[38;5;28misinstance\u001b[39m(handle, \u001b[38;5;28mstr\u001b[39m):\n\u001b[0;32m    859\u001b[0m     \u001b[38;5;66;03m# Check whether the filename is to be opened in binary mode.\u001b[39;00m\n\u001b[0;32m    860\u001b[0m     \u001b[38;5;66;03m# Binary mode does not support 'encoding' and 'newline'.\u001b[39;00m\n\u001b[0;32m    861\u001b[0m     \u001b[38;5;28;01mif\u001b[39;00m ioargs\u001b[38;5;241m.\u001b[39mencoding \u001b[38;5;129;01mand\u001b[39;00m \u001b[38;5;124m\"\u001b[39m\u001b[38;5;124mb\u001b[39m\u001b[38;5;124m\"\u001b[39m \u001b[38;5;129;01mnot\u001b[39;00m \u001b[38;5;129;01min\u001b[39;00m ioargs\u001b[38;5;241m.\u001b[39mmode:\n\u001b[0;32m    862\u001b[0m         \u001b[38;5;66;03m# Encoding\u001b[39;00m\n\u001b[1;32m--> 863\u001b[0m         handle \u001b[38;5;241m=\u001b[39m \u001b[38;5;28mopen\u001b[39m(\n\u001b[0;32m    864\u001b[0m             handle,\n\u001b[0;32m    865\u001b[0m             ioargs\u001b[38;5;241m.\u001b[39mmode,\n\u001b[0;32m    866\u001b[0m             encoding\u001b[38;5;241m=\u001b[39mioargs\u001b[38;5;241m.\u001b[39mencoding,\n\u001b[0;32m    867\u001b[0m             errors\u001b[38;5;241m=\u001b[39merrors,\n\u001b[0;32m    868\u001b[0m             newline\u001b[38;5;241m=\u001b[39m\u001b[38;5;124m\"\u001b[39m\u001b[38;5;124m\"\u001b[39m,\n\u001b[0;32m    869\u001b[0m         )\n\u001b[0;32m    870\u001b[0m     \u001b[38;5;28;01melse\u001b[39;00m:\n\u001b[0;32m    871\u001b[0m         \u001b[38;5;66;03m# Binary mode\u001b[39;00m\n\u001b[0;32m    872\u001b[0m         handle \u001b[38;5;241m=\u001b[39m \u001b[38;5;28mopen\u001b[39m(handle, ioargs\u001b[38;5;241m.\u001b[39mmode)\n",
      "\u001b[1;31mFileNotFoundError\u001b[0m: [Errno 2] No such file or directory: 'JC-202410-citibike-tripdata.csv'"
     ]
    }
   ],
   "source": [
    "import pandas as pd\n",
    "\n",
    "df = pd.read_csv('JC-202410-citibike-tripdata.csv')\n",
    "df"
   ]
  },
  {
   "cell_type": "code",
   "execution_count": null,
   "metadata": {},
   "outputs": [],
   "source": [
    "df.info()"
   ]
  },
  {
   "cell_type": "code",
   "execution_count": null,
   "metadata": {},
   "outputs": [],
   "source": [
    "df.columns"
   ]
  },
  {
   "cell_type": "code",
   "execution_count": null,
   "metadata": {},
   "outputs": [],
   "source": [
    "df.head(n=10)"
   ]
  },
  {
   "cell_type": "code",
   "execution_count": null,
   "metadata": {},
   "outputs": [],
   "source": [
    "df.tail(n=10)"
   ]
  },
  {
   "cell_type": "code",
   "execution_count": null,
   "metadata": {},
   "outputs": [],
   "source": [
    "df.describe() # Attention! Some methods do not always make sense!"
   ]
  },
  {
   "cell_type": "code",
   "execution_count": null,
   "metadata": {},
   "outputs": [],
   "source": [
    "df.loc[0]"
   ]
  },
  {
   "cell_type": "code",
   "execution_count": null,
   "metadata": {},
   "outputs": [],
   "source": [
    "df.iloc[0]"
   ]
  },
  {
   "cell_type": "code",
   "execution_count": null,
   "metadata": {},
   "outputs": [],
   "source": [
    "df.member_casual"
   ]
  },
  {
   "cell_type": "code",
   "execution_count": null,
   "metadata": {},
   "outputs": [],
   "source": [
    "df.sort_values(by='started_at').head(n=1)"
   ]
  },
  {
   "cell_type": "markdown",
   "metadata": {},
   "source": [
    "## Lab assignments"
   ]
  },
  {
   "cell_type": "markdown",
   "metadata": {},
   "source": [
    "### Comma Code\n",
    "\n",
    "**Source:** https://automatetheboringstuff.com/2e/chapter4/\n",
    "\n",
    "Say you have a list value like this:\n",
    "\n",
    "```\n",
    "spam = ['apples', 'bananas', 'tofu', 'cats']\n",
    "``` \n",
    "\n",
    "Write a function that takes a list value as an argument and returns a string with all the items separated by a comma and a space, with and inserted before the last item. For example, passing the previous spam list to the function would return 'apples, bananas, tofu, and cats'. But your function should be able to work with any list value passed to it. Be sure to test the case where an empty list [] is passed to your function."
   ]
  },
  {
   "cell_type": "code",
   "execution_count": 19,
   "metadata": {},
   "outputs": [
    {
     "name": "stdout",
     "output_type": "stream",
     "text": [
      "apples, bananas, tofu and cats\n",
      "\n"
     ]
    }
   ],
   "source": [
    "def list_to_string(lst):\n",
    "    # Check if the list is empty\n",
    "    if len(lst) == 0:\n",
    "        return \"\"  # Return an empty string if the list is empty\n",
    "\n",
    "    # Check if the list has only one item\n",
    "    elif len(lst) == 1:\n",
    "        return lst[0]  # Return that single item if the list has only one element\n",
    "\n",
    "    # If the list has more than one item\n",
    "    else:\n",
    "        # Join all items except the last one with a comma and space, \n",
    "        # then add ' and ' before the last item\n",
    "        return ', '.join(lst[:-1]) + ' and ' + lst[-1]\n",
    "\n",
    "# Test with the provided spam list\n",
    "spam = ['apples', 'bananas', 'tofu', 'cats']\n",
    "print(list_to_string(spam))  # Expected output: 'apples, bananas, tofu, and cats'\n",
    "\n",
    "# Test with an empty list\n",
    "print(list_to_string([]))  # Expected output: ''\n"
   ]
  },
  {
   "cell_type": "markdown",
   "metadata": {},
   "source": [
    "### Coin Flip Streaks\n",
    "\n",
    "**Source:** https://automatetheboringstuff.com/2e/chapter4/\n",
    "\n",
    "For this exercise, we’ll try doing an experiment. If you flip a coin 100 times and write down an “H” for each heads and “T” for each tails, you’ll create a list that looks like “T T T T H H H H T T.” If you ask a human to make up 100 random coin flips, you’ll probably end up with alternating head-tail results like “H T H T H H T H T T,” which looks random (to humans), but isn’t mathematically random. A human will almost never write down a streak of six heads or six tails in a row, even though it is highly likely to happen in truly random coin flips. Humans are predictably bad at being random.\n",
    "\n",
    "Write a program to find out how often a streak of six heads or a streak of six tails comes up in a randomly generated list of heads and tails. Your program breaks up the experiment into two parts: the first part generates a list of randomly selected 'heads' and 'tails' values, and the second part checks if there is a streak in it. Put all of this code in a loop that repeats the experiment 10,000 times so we can find out what percentage of the coin flips contains a streak of six heads or tails in a row. As a hint, the function call random.randint(0, 1) will return a 0 value 50% of the time and a 1 value the other 50% of the time.\n",
    "\n",
    "You can start with the following template:"
   ]
  },
  {
   "cell_type": "code",
   "execution_count": 20,
   "metadata": {},
   "outputs": [
    {
     "name": "stdout",
     "output_type": "stream",
     "text": [
      "Chance of streak: 80.96%\n"
     ]
    }
   ],
   "source": [
    "import random\n",
    "\n",
    "# This will keep track of how many times we get a streak of 6 heads or tails in a row\n",
    "numberOfStreaks = 0\n",
    "\n",
    "# Repeat the experiment 10,000 times\n",
    "for experimentNumber in range(10000):\n",
    "    # Create a list of 100 random coin flips ('H' or 'T')\n",
    "    flips = []\n",
    "    for i in range(100):\n",
    "        flip = random.randint(0, 1)  # 0 means 'T', 1 means 'H'\n",
    "        if flip == 0:\n",
    "            flips.append('T')\n",
    "        else:\n",
    "            flips.append('H')\n",
    "    \n",
    "    # Check if there's a streak of 6 heads or 6 tails in a row\n",
    "    for i in range(95):  # Check slices of 6 consecutive flips\n",
    "        # If we find a streak of 6 heads or 6 tails, count it as a streak\n",
    "        if flips[i:i+6] == ['H', 'H', 'H', 'H', 'H', 'H'] or flips[i:i+6] == ['T', 'T', 'T', 'T', 'T', 'T']:\n",
    "            numberOfStreaks += 1\n",
    "            break  # Stop checking once we find the streak\n",
    "\n",
    "# Calculate the chance of a streak and print it\n",
    "chanceOfStreak = numberOfStreaks / 10000 * 100  # Calculate percentage\n",
    "print(f'Chance of streak: {chanceOfStreak}%')\n"
   ]
  },
  {
   "cell_type": "markdown",
   "metadata": {},
   "source": [
    "### Back to the dungeon!\n",
    "\n",
    "Remember [bashcrawl]() from the second lab exercise? Now we are going back the \"dungeon setting\" but **this time you will actually implement parts of the game!**\n",
    "\n",
    "#### Fantasy Game Inventory\n",
    "\n",
    "**Source:** https://automatetheboringstuff.com/2e/chapter5/\n",
    "\n",
    "You are creating a fantasy video game. The data structure to model the player’s inventory will be a dictionary where the keys are string values describing the item in the inventory and the value is an integer value detailing how many of that item the player has. For example, the dictionary value {'rope': 1, 'torch': 6, 'gold coin': 42, 'dagger': 1, 'arrow': 12} means the player has 1 rope, 6 torches, 42 gold coins, and so on.\n",
    "\n",
    "Write a function named displayInventory() that would take any possible “inventory” and display it like the following:\n",
    "\n",
    "```\n",
    "Inventory:\n",
    "12 arrow\n",
    "42 gold coin\n",
    "1 rope\n",
    "6 torch\n",
    "1 dagger\n",
    "Total number of items: 62\n",
    "``` \n",
    "**Hint:** You can use a for loop to loop through all the keys in a dictionary.\n",
    "\n",
    "You can start with the following template:"
   ]
  },
  {
   "cell_type": "code",
   "execution_count": 21,
   "metadata": {},
   "outputs": [
    {
     "name": "stdout",
     "output_type": "stream",
     "text": [
      "Inventory:\n",
      "1 rope\n",
      "6 torch\n",
      "42 gold coin\n",
      "1 dagger\n",
      "12 arrow\n",
      "1 moonlight greatsword\n",
      "Total number of items: 63\n"
     ]
    }
   ],
   "source": [
    "# Starting inventory dictionary with item names as keys and their counts as values\n",
    "stuff = {'rope': 1, 'torch': 6, 'gold coin': 42, 'dagger': 1, 'arrow': 12}\n",
    "\n",
    "# Adding a new item (moonlight greatsword) to the inventory with a count of 1, I wanted to be creative and wanted to see if I can add one more value here\n",
    "stuff['moonlight greatsword'] = 1\n",
    "\n",
    "# Function to display the inventory and total items\n",
    "def displayInventory(inventory):\n",
    "    print(\"Inventory:\")  # Print the title for the inventory list\n",
    "    \n",
    "    # Variable to keep track of the total number of items\n",
    "    item_total = 0\n",
    "    \n",
    "    # Loop through each item (key) and its count (value) in the inventory dictionary\n",
    "    for item, count in inventory.items():\n",
    "        # For each item, print its name and how many of that item we have\n",
    "        print(f\"{count} {item}\")  # Display the count and item name\n",
    "        \n",
    "        # Add the count to the total number of items\n",
    "        item_total += count\n",
    "    \n",
    "    # After the loop, print the total number of items in the inventory\n",
    "    print(\"Total number of items: \" + str(item_total))\n",
    "\n",
    "# Call the function with the updated 'stuff' dictionary to display the inventory\n",
    "displayInventory(stuff)\n"
   ]
  },
  {
   "cell_type": "markdown",
   "metadata": {},
   "source": [
    "#### List to Dictionary Function for Fantasy Game \n",
    "\n",
    "**Source:** https://automatetheboringstuff.com/2e/chapter5/\n",
    "\n",
    "Imagine that a vanquished dragon’s loot is represented as a list of strings like this:\n",
    "\n",
    "```\n",
    "dragonLoot = ['gold coin', 'dagger', 'gold coin', 'gold coin', 'ruby']\n",
    "```\n",
    "\n",
    "Write a function named addToInventory(inventory, addedItems), where the inventory parameter is a dictionary representing the player’s inventory (like in the previous project) and the addedItems parameter is a list like dragonLoot. The addToInventory() function should return a dictionary that represents the updated inventory. Note that the addedItems list can contain multiples of the same item. \n",
    "\n",
    "The previous program (with your displayInventory() function from the previous project) would output the following:\n",
    "\n",
    "```\n",
    "Inventory:\n",
    "45 gold coin\n",
    "1 rope\n",
    "1 ruby\n",
    "1 dagger\n",
    "\n",
    "Total number of items: 48\n",
    "```\n",
    "\n",
    "Your code could look something like this:\n"
   ]
  },
  {
   "cell_type": "code",
   "execution_count": 23,
   "metadata": {},
   "outputs": [
    {
     "name": "stdout",
     "output_type": "stream",
     "text": [
      "Inventory:\n",
      "45 gold coin\n",
      "1 rope\n",
      "1 dagger\n",
      "1 ruby\n",
      "Total number of items: 48\n"
     ]
    }
   ],
   "source": [
    "# Function to add items from the loot to the inventory\n",
    "def addToInventory(inventory, addedItems):\n",
    "    for item in addedItems:\n",
    "        inventory[item] = inventory.get(item, 0) + 1  # Add item or update count\n",
    "    return inventory\n",
    "\n",
    "# Function to display the inventory and total items\n",
    "def displayInventory(inventory):\n",
    "    print(\"Inventory:\")\n",
    "    total = sum(inventory.values())  # Calculate total number of items\n",
    "    for item, count in inventory.items():\n",
    "        print(f\"{count} {item}\")  # Print item and its count\n",
    "    print(f\"Total number of items: {total}\")  # Print total items\n",
    "\n",
    "# Starting inventory and dragon's loot\n",
    "inv = {'gold coin': 42, 'rope': 1}\n",
    "dragonLoot = ['gold coin', 'dagger', 'gold coin', 'gold coin', 'ruby']\n",
    "\n",
    "# Update and display inventory\n",
    "inv = addToInventory(inv, dragonLoot)\n",
    "displayInventory(inv)\n"
   ]
  }
 ],
 "metadata": {
  "kernelspec": {
   "display_name": "base",
   "language": "python",
   "name": "python3"
  },
  "language_info": {
   "codemirror_mode": {
    "name": "ipython",
    "version": 3
   },
   "file_extension": ".py",
   "mimetype": "text/x-python",
   "name": "python",
   "nbconvert_exporter": "python",
   "pygments_lexer": "ipython3",
   "version": "3.11.7"
  }
 },
 "nbformat": 4,
 "nbformat_minor": 2
}
